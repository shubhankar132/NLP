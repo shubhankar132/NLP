{
  "nbformat": 4,
  "nbformat_minor": 0,
  "metadata": {
    "colab": {
      "name": "VoiceMD-CV.ipynb",
      "provenance": [],
      "collapsed_sections": [],
      "toc_visible": true
    },
    "kernelspec": {
      "name": "python3",
      "display_name": "Python 3"
    },
    "accelerator": "GPU"
  },
  "cells": [
    {
      "cell_type": "markdown",
      "metadata": {
        "id": "t4zC3-IJCcEK",
        "colab_type": "text"
      },
      "source": [
        "# Welcome to VoiceMD\n",
        "Please make sure to adjust the settings above: \n",
        "\n",
        "Runtime > Change Runtime Type > Hardware accelerator > GPU\n"
      ]
    },
    {
      "cell_type": "markdown",
      "metadata": {
        "id": "_ZbXSzAvjcKl",
        "colab_type": "text"
      },
      "source": [
        "# 1. Initialize your workstation.\n",
        "\n"
      ]
    },
    {
      "cell_type": "code",
      "metadata": {
        "id": "1dPVD8Mrc0h7",
        "colab_type": "code",
        "cellView": "form",
        "colab": {}
      },
      "source": [
        "import os\n",
        "import ipywidgets as widgets\n",
        "from IPython.display import display\n",
        "\n",
        "task = 'initialization' #@param [\"initialization\"]\n",
        "print('initializing...')\n",
        "\n",
        "os.system('pip install -U PyYAML')\n",
        "os.system('git clone https://github.com/jerpint/voicemd.git')\n",
        "os.system(\"pip install -e './voicemd'\")\n",
        "os.system('curl -L -o voicemd/model.pt \"https://www.dropbox.com/s/r3ydpfxr3h4vlzg/best_model_commonvoice?dl=1\"')\n",
        "print('done!')\n"
      ],
      "execution_count": 0,
      "outputs": []
    },
    {
      "cell_type": "markdown",
      "metadata": {
        "id": "7c8lt95UjluH",
        "colab_type": "text"
      },
      "source": [
        "# 2. Upload your audio file(s)\n",
        "\n"
      ]
    },
    {
      "cell_type": "markdown",
      "metadata": {
        "id": "3kwDAd6enEu4",
        "colab_type": "text"
      },
      "source": [
        "1.   Click on the folder icon located on the left side-bar.\n",
        "2.   Drag-and-drop your audio tracks anywhere in the empty panel space."
      ]
    },
    {
      "cell_type": "markdown",
      "metadata": {
        "id": "cuJlxDnejyZ9",
        "colab_type": "text"
      },
      "source": [
        "# 3. Analyze voice(s)"
      ]
    },
    {
      "cell_type": "code",
      "metadata": {
        "id": "J1uEDTAzd3Ie",
        "colab_type": "code",
        "cellView": "form",
        "colab": {}
      },
      "source": [
        "import shutil \n",
        "task = 'analysis' #@param [\"analysis\"]\n",
        "!python /content/voicemd/voicemd/colab/prediction.py\n"
      ],
      "execution_count": 0,
      "outputs": []
    }
  ]
}
