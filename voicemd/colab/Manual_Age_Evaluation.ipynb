{
  "nbformat": 4,
  "nbformat_minor": 0,
  "metadata": {
    "colab": {
      "name": "Manual Age Evaluation.ipynb",
      "provenance": [],
      "include_colab_link": true
    },
    "kernelspec": {
      "name": "python3",
      "display_name": "Python 3"
    }
  },
  "cells": [
    {
      "cell_type": "markdown",
      "metadata": {
        "id": "view-in-github",
        "colab_type": "text"
      },
      "source": [
        "<a href=\"https://colab.research.google.com/github/jerpint/voicemd/blob/master/voicemd/colab/Manual_Age_Evaluation.ipynb\" target=\"_parent\"><img src=\"https://colab.research.google.com/assets/colab-badge.svg\" alt=\"Open In Colab\"/></a>"
      ]
    },
    {
      "cell_type": "code",
      "metadata": {
        "id": "KRUCkiTL-CzL",
        "cellView": "form"
      },
      "source": [
        "#@title ## Initialization + Evaluation\n",
        "#@markdown Hit the play button on the left to initialize this notebook.\n",
        "#@markdown Listen to each sound file and give it an age bracket.\n",
        "#@markdown We recommend doing this with headphones.\n",
        "#@markdown Do as many as you can (you don't have to do them all). \n",
        "#@markdown When done, go to the bottom to evaluate your results.\n",
        "#@markdown Save a copy of your results and send it back to the evaluator.\n",
        "import os\n",
        "import pandas as pd\n",
        "import ipywidgets as widgets\n",
        "from IPython.display import display\n",
        "from IPython.display import Audio\n",
        "\n",
        "print('initializing...')\n",
        "if not os.path.isdir('cv_balanced/'):\n",
        "  print(\"Downloading data...\")\n",
        "  !curl -L -o cv_balanced.zip \"https://www.dropbox.com/s/uee4r9s3w7imj9k/cv_balanced.zip?dl=1\"\n",
        "  !unzip -o -q cv_balanced.zip\n",
        "print('done!')\n",
        "\n",
        "total_samples = 100\n",
        "metadata = pd.read_csv('cv_balanced/cv_metadata_balanced.csv')\n",
        "shuffled_metadata = metadata.sample(n=len(metadata), random_state=1337)\n",
        "\n",
        "age_categories=['twenties', 'thirties', 'fourties', 'fifties', 'sixties']\n",
        "assert set(age_categories) == set(shuffled_metadata.age.unique())\n",
        "filenames = shuffled_metadata['path'].iloc[0:total_samples]\n",
        "all_widgets = {}\n",
        "\n",
        "for i, fname in enumerate(filenames):\n",
        "  print(f'{i+1}. \\n')\n",
        "  current_widget =  widgets.RadioButtons(\n",
        "        options=age_categories, \n",
        "        description='Choose Age:', \n",
        "        value=None,\n",
        "        disabled=False,\n",
        "  )\n",
        "  all_widgets[fname] = {}\n",
        "  all_widgets[fname]['widget'] = current_widget\n",
        "  all_widgets[fname]['gt'] = shuffled_metadata[shuffled_metadata.path == fname]['age'].values[0]\n",
        "  display(Audio('cv_balanced/clips/' + fname))\n",
        "  display(current_widget)\n",
        "  print(\"\\n\"*4)"
      ],
      "execution_count": null,
      "outputs": []
    },
    {
      "cell_type": "code",
      "metadata": {
        "id": "naJW74IQ_E7L",
        "cellView": "form"
      },
      "source": [
        "#@title ## Results\n",
        "#@markdown Hit the play button on this cell to compute your stats. \n",
        "#@markdown Copy-paste and send your results to your evaluator.\n",
        "\n",
        "from sklearn.metrics import confusion_matrix, accuracy_score\n",
        "\n",
        "# gather results\n",
        "y_true = []\n",
        "y_pred = []\n",
        "for fname in all_widgets:\n",
        "  if all_widgets[fname]['widget'].value is None:\n",
        "    continue\n",
        "  y_true.append(all_widgets[fname]['gt'])\n",
        "  y_pred.append(all_widgets[fname]['widget'].value)\n",
        "\n",
        "print(\"Number of samples analyzed:\", len(y_pred))\n",
        "print(\"Confusion Matrix:\")\n",
        "display(confusion_matrix(y_true, y_pred, labels=age_categories))\n",
        "print(\"\\n\")\n",
        "print(f\"Accuracy: {accuracy_score(y_true, y_pred)*100} %\")\n"
      ],
      "execution_count": null,
      "outputs": []
    }
  ]
}